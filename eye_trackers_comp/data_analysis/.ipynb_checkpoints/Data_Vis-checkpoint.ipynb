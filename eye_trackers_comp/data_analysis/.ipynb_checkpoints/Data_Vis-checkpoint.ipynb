{
 "cells": [
  {
   "cell_type": "code",
   "execution_count": 8,
   "id": "c0994aeb",
   "metadata": {},
   "outputs": [],
   "source": [
    "import pandas as pd\n",
    "from conf.users import Users\n",
    "import conf.figures as figures\n",
    "from conf.actions import get_name\n",
    "from extract_distance import KEY_ACTION, KEY_ID\n",
    "import matplotlib.pyplot as plt\n",
    "\n",
    "users = Users(pretest=True)"
   ]
  },
  {
   "cell_type": "code",
   "execution_count": 35,
   "id": "3b6d94c1",
   "metadata": {},
   "outputs": [],
   "source": [
    "def get_distances(user, figure, id_event):\n",
    "    csvfile = (\"../data/%s/%s/events/%d_table.csv\" % (user, figure, id_event))\n",
    "    distances = {}\n",
    "    df = pd.DataFrame(data=pd.read_csv (csvfile))\n",
    "    for idx in df.index:\n",
    "        distances[df.at[idx, \"timestamp\"]] = df.at[idx, \"distance\"]\n",
    "    return distances\n",
    "                \n",
    "def scatter(ax, data):\n",
    "    x = []\n",
    "    y = []\n",
    "    for key in data.keys():\n",
    "        x.append(key)\n",
    "        y.append(data[key])\n",
    "    ax.scatter(x,y)\n",
    "    \n",
    "for user in users.get_users_id_list():\n",
    "    \n",
    "    for figId in figures.get_id_list():\n",
    "        action_dist = {}\n",
    "        figure = figures.get_name(figId)\n",
    "        try:\n",
    "            labels_csv = (\"../data/%s/%s/events/labels.csv\" % (user, figure))\n",
    "            labels = pd.DataFrame(data=pd.read_csv (labels_csv))\n",
    "            for idx in labels.index:\n",
    "                action = get_name(labels.at[idx, KEY_ACTION])\n",
    "                if(not action in action_dist.keys()):\n",
    "                    action_dist[action] = []\n",
    "                action_dist[action].append(get_distances(user, figure, labels.at[idx, KEY_ID]))\n",
    "        except FileNotFoundError as e:\n",
    "            continue\n",
    "        for action in action_dist.keys():\n",
    "            idx= 0\n",
    "            for data in action_dist[action]:\n",
    "                fig, ax = plt.subplots(1, 1, figsize=(5, 5))\n",
    "    #             print(axs)\n",
    "    #             ax = axs[0]\n",
    "                ax.set_title(action.capitalize())\n",
    "                ax.set_xlabel('Time (ms)')\n",
    "                ax.set_ylabel('Distance (mm)')\n",
    "                scatter(ax, data)\n",
    "                fig.savefig(\"output/png/%d_%s_%s_%d.png\" % (user, figure, action, idx))\n",
    "                plt.close(fig)\n",
    "                idx += 1"
   ]
  },
  {
   "cell_type": "code",
   "execution_count": null,
   "id": "b9994ca5",
   "metadata": {},
   "outputs": [],
   "source": []
  },
  {
   "cell_type": "code",
   "execution_count": null,
   "id": "1edf7dbd",
   "metadata": {},
   "outputs": [],
   "source": []
  }
 ],
 "metadata": {
  "kernelspec": {
   "display_name": "Python 3 (ipykernel)",
   "language": "python",
   "name": "python3"
  },
  "language_info": {
   "codemirror_mode": {
    "name": "ipython",
    "version": 3
   },
   "file_extension": ".py",
   "mimetype": "text/x-python",
   "name": "python",
   "nbconvert_exporter": "python",
   "pygments_lexer": "ipython3",
   "version": "3.10.11"
  }
 },
 "nbformat": 4,
 "nbformat_minor": 5
}
